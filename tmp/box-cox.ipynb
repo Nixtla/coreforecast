{
 "cells": [
  {
   "cell_type": "markdown",
   "id": "7aebd16d",
   "metadata": {},
   "source": [
    "# Box-Cox transformation "
   ]
  },
  {
   "cell_type": "code",
   "execution_count": 1,
   "id": "02307f43",
   "metadata": {},
   "outputs": [],
   "source": [
    "import pandas as pd \n",
    "import numpy as np\n",
    "from coreforecast import scalers "
   ]
  },
  {
   "cell_type": "markdown",
   "id": "bd2e1c7d",
   "metadata": {},
   "source": [
    "The following results use `coreforecast` v0.0.16.\n",
    "\n",
    "When using `coreforecast` v0.0.15 or earlier, the results are identical or closer to R's. \n"
   ]
  },
  {
   "cell_type": "code",
   "execution_count": 3,
   "id": "2c42d710",
   "metadata": {},
   "outputs": [],
   "source": [
    "# Using the condensed milk dataset from R\n",
    "milk = np.array([\n",
    "    81.28, 69.39, 67.63, 51.25, 103.97, 133.83, 162.37, 172.91, 163.01, 151.50, 111.73, 88.58,\n",
    "    74.29, 63.98, 61.18, 76.48, 107.98, 124.97, 145.57, 140.20, 143.84, 138.80, 104.06, 74.70,\n",
    "    60.18, 55.16, 35.62, 56.18, 85.44, 114.08, 133.64, 67.14, 95.58, 89.37, 75.24, 69.18,\n",
    "    54.49, 57.50, 62.16, 76.67, 110.04, 127.38, 156.47, 167.56, 153.54, 124.08, 100.97, 79.17,\n",
    "    68.13, 61.77, 54.31, 60.30, 84.18, 104.05, 114.66, 105.55, 96.61, 70.94, 63.91, 58.61,\n",
    "    44.53, 49.58, 57.39, 76.76, 104.57, 125.41, 143.11, 136.35, 135.15, 131.70, 96.87, 70.63,\n",
    "    66.29, 63.49, 62.97, 66.43, 101.49, 127.69, 133.21, 158.72, 148.61, 134.31, 100.99, 75.16,\n",
    "    59.74, 52.87, 52.07, 57.38, 79.43, 101.40, 120.19, 134.38, 135.97, 113.83, 84.38, 70.28,\n",
    "    65.96, 56.36, 49.57, 68.33, 90.32, 117.06, 134.69, 131.67, 129.25, 118.77, 88.44, 76.79,\n",
    "    75.28, 73.89, 76.24, 88.58, 105.83, 115.84, 127.76, 131.75, 119.63, 93.38, 75.55, 51.79\n",
    "])\n"
   ]
  },
  {
   "cell_type": "code",
   "execution_count": 4,
   "id": "93d879e2",
   "metadata": {},
   "outputs": [
    {
     "data": {
      "text/plain": [
       "-0.8999512997426738"
      ]
     },
     "execution_count": 4,
     "metadata": {},
     "output_type": "execute_result"
    }
   ],
   "source": [
    "scalers.boxcox_lambda(\n",
    "    x=milk, \n",
    "    method='guerrero', \n",
    "    season_length=12\n",
    ") \n",
    "# Output in R: -0.402"
   ]
  },
  {
   "cell_type": "code",
   "execution_count": 5,
   "id": "c930ef66",
   "metadata": {},
   "outputs": [],
   "source": [
    "# Using gas from the aus_production dataset\n",
    "gas = np.array([\n",
    "    5, 6, 7, 6,\n",
    "    5, 7, 7, 6,\n",
    "    5, 7, 8, 6,\n",
    "    5, 7, 8, 6,\n",
    "    6, 8, 8, 7,\n",
    "    6, 7, 8, 6,\n",
    "    6, 8, 8, 7,\n",
    "    6, 8, 9, 7,\n",
    "    6, 8, 9, 7,\n",
    "    6, 8, 9, 7,\n",
    "    6, 8, 10, 7,\n",
    "    6, 9, 10, 7,\n",
    "    6, 9, 11, 8,\n",
    "    7, 10, 13, 11,\n",
    "    12, 18, 23, 20,\n",
    "    19, 23, 28, 24,\n",
    "    24, 34, 40, 35,\n",
    "    34, 41, 48, 39,\n",
    "    38, 48, 52, 43,\n",
    "    39, 49, 55, 47,\n",
    "    44, 58, 65, 54,\n",
    "    49, 64, 74, 58,\n",
    "    56, 71, 78, 65,\n",
    "    59, 74, 88, 71,\n",
    "    68, 91, 103, 83,\n",
    "    88, 110, 120, 101,\n",
    "    93, 116, 127, 98,\n",
    "    92, 118, 124, 104,\n",
    "    97, 116, 130, 111,\n",
    "    103, 120, 132, 107,\n",
    "    98, 127, 137, 112,\n",
    "    106, 130, 158, 123,\n",
    "    116, 137, 157, 125,\n",
    "    117, 149, 175, 139,\n",
    "    125, 152, 161, 123,\n",
    "    111, 141, 160, 125,\n",
    "    117, 151, 175, 129,\n",
    "    116, 149, 163, 138,\n",
    "    127, 159, 184, 147,\n",
    "    131, 167, 181, 145,\n",
    "    133, 162, 184, 146,\n",
    "    135, 171, 183, 151,\n",
    "    141, 174, 191, 157,\n",
    "    145, 182, 198, 165,\n",
    "    164, 199, 213, 173,\n",
    "    177, 205, 218, 185,\n",
    "    166, 204, 228, 186,\n",
    "    172, 204, 232, 188,\n",
    "    173, 215, 227, 190,\n",
    "    170, 206, 221, 180,\n",
    "    171, 224, 233, 192,\n",
    "    187, 234, 245, 205,\n",
    "    194, 229, 249, 203,\n",
    "    196, 238, 252, 210,\n",
    "    205, 236\n",
    "])   "
   ]
  },
  {
   "cell_type": "code",
   "execution_count": 6,
   "id": "d49717f5",
   "metadata": {},
   "outputs": [
    {
     "data": {
      "text/plain": [
       "0.07784347236156464"
      ]
     },
     "execution_count": 6,
     "metadata": {},
     "output_type": "execute_result"
    }
   ],
   "source": [
    "scalers.boxcox_lambda(\n",
    "    x=gas, \n",
    "    method='guerrero', \n",
    "    season_length=4\n",
    ")\n",
    "# Output in R: 0.109"
   ]
  }
 ],
 "metadata": {
  "kernelspec": {
   "display_name": "nixtla",
   "language": "python",
   "name": "python3"
  },
  "language_info": {
   "codemirror_mode": {
    "name": "ipython",
    "version": 3
   },
   "file_extension": ".py",
   "mimetype": "text/x-python",
   "name": "python",
   "nbconvert_exporter": "python",
   "pygments_lexer": "ipython3",
   "version": "3.10.14"
  }
 },
 "nbformat": 4,
 "nbformat_minor": 5
}
